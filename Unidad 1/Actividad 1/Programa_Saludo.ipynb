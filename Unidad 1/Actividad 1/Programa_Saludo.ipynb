{
  "nbformat": 4,
  "nbformat_minor": 0,
  "metadata": {
    "colab": {
      "provenance": []
    },
    "kernelspec": {
      "name": "python3",
      "display_name": "Python 3"
    },
    "language_info": {
      "name": "python"
    }
  },
  "cells": [
    {
      "cell_type": "code",
      "execution_count": 1,
      "metadata": {
        "colab": {
          "base_uri": "https://localhost:8080/"
        },
        "id": "kJxKPU2aIV3z",
        "outputId": "b9036c3f-5462-4feb-da5a-f70ab2604b9d"
      },
      "outputs": [
        {
          "output_type": "stream",
          "name": "stdout",
          "text": [
            "Ingrese su Nombre:Joham\n",
            "Ingrese su edad:20\n",
            "Hola Joham, tienes: 20 años\n"
          ]
        }
      ],
      "source": [
        "nombre = input(\"Ingrese su Nombre:\")\n",
        "edad = int(input(\"Ingrese su edad:\"))\n",
        "print(\"Hola \"+nombre+\", tienes: \"+ str(edad) +\" años\")"
      ]
    },
    {
      "cell_type": "markdown",
      "source": [
        "Impresion de variables"
      ],
      "metadata": {
        "id": "WpES7jKuOFux"
      }
    },
    {
      "cell_type": "markdown",
      "source": [],
      "metadata": {
        "id": "KmNIE975OFOo"
      }
    }
  ]
}