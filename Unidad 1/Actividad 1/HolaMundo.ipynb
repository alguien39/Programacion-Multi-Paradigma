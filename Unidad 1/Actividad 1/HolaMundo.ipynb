{
  "nbformat": 4,
  "nbformat_minor": 0,
  "metadata": {
    "colab": {
      "provenance": []
    },
    "kernelspec": {
      "name": "python3",
      "display_name": "Python 3"
    },
    "language_info": {
      "name": "python"
    }
  },
  "cells": [
    {
      "cell_type": "markdown",
      "source": [
        "Primer codigo: \"Hola Mundo\""
      ],
      "metadata": {
        "id": "zPLCHazvCc3r"
      }
    },
    {
      "cell_type": "code",
      "execution_count": 1,
      "metadata": {
        "colab": {
          "base_uri": "https://localhost:8080/"
        },
        "id": "A2N8XrrBCQdB",
        "outputId": "40a0aed5-720e-40e3-d1c2-4bf51e15fe83"
      },
      "outputs": [
        {
          "output_type": "stream",
          "name": "stdout",
          "text": [
            "Hola, este es mi primer programa en Python\n"
          ]
        }
      ],
      "source": [
        "print(\"Hola, este es mi primer programa en Python\")"
      ]
    },
    {
      "cell_type": "code",
      "source": [],
      "metadata": {
        "id": "Jmg7F9b-CyDr"
      },
      "execution_count": null,
      "outputs": []
    }
  ]
}